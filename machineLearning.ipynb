{
 "cells": [
  {
   "cell_type": "code",
   "execution_count": 42,
   "id": "ef96a7c4",
   "metadata": {},
   "outputs": [],
   "source": [
    "from sklearn.model_selection import train_test_split\n",
    "from sklearn.linear_model import LinearRegression\n",
    "from sklearn.metrics import mean_squared_error"
   ]
  },
  {
   "cell_type": "code",
   "execution_count": 43,
   "id": "c0cef9f0",
   "metadata": {},
   "outputs": [
    {
     "name": "stdout",
     "output_type": "stream",
     "text": [
      "   Year Company  Category  Market Cap(in B USD)   Revenue  Gross Profit  \\\n",
      "0  2022     AAPL       IT               2066.94  394328.0      170782.0   \n",
      "1  2021     AAPL       IT               2913.28  365817.0      152836.0   \n",
      "2  2020     AAPL       IT               2255.97  274515.0      104956.0   \n",
      "3  2019     AAPL       IT               1304.76  260174.0       98392.0   \n",
      "4  2018     AAPL       IT                748.54  265595.0      101839.0   \n",
      "\n",
      "   Net Income  Earning Per Share    EBITDA  Share Holder Equity  ...  \\\n",
      "0     99803.0               6.11  130541.0              50672.0  ...   \n",
      "1     94680.0               5.61  120233.0              63090.0  ...   \n",
      "2     57411.0               3.28   77344.0              65339.0  ...   \n",
      "3     55256.0               2.97   76477.0              90488.0  ...   \n",
      "4     59531.0               2.98   81801.0             107147.0  ...   \n",
      "\n",
      "   Current Ratio  Debt/Equity Ratio       ROE      ROA      ROI  \\\n",
      "0         0.8794             2.3695  196.9589  28.2924  66.6994   \n",
      "1         1.0746             1.9768  150.0713  26.9742  54.9839   \n",
      "2         1.3636             1.7208   87.8664  17.7256  35.0054   \n",
      "3         1.5401             1.1940   61.0645  16.3230  30.3113   \n",
      "4         1.1329             1.0685   55.5601  16.2775  29.6348   \n",
      "\n",
      "   Net Profit Margin  Free Cash Flow per Share  Return on Tangible Equity  \\\n",
      "0            25.3096                    1.3146                   196.9589   \n",
      "1            25.8818                    1.3261                   150.0713   \n",
      "2            20.9136                    1.0183                    87.8664   \n",
      "3            21.2381                   -0.0388                    61.0645   \n",
      "4            22.4142                    0.7414                    55.5601   \n",
      "\n",
      "   Number of Employees  Inflation Rate(in US)  \n",
      "0               164000                 8.0028  \n",
      "1               154000                 4.6979  \n",
      "2               147000                 1.2336  \n",
      "3               137000                 1.8122  \n",
      "4               132000                 2.4426  \n",
      "\n",
      "[5 rows x 23 columns]\n"
     ]
    },
    {
     "data": {
      "text/plain": [
       "pandas.core.frame.DataFrame"
      ]
     },
     "execution_count": 43,
     "metadata": {},
     "output_type": "execute_result"
    }
   ],
   "source": [
    "import pandas as pd\n",
    "\n",
    "df_fs = pd.read_csv('FinancialStatements.csv')\n",
    "\n",
    "print(df_fs.head())\n",
    "\n",
    "type(df_fs)"
   ]
  },
  {
   "cell_type": "code",
   "execution_count": 44,
   "id": "55c057de",
   "metadata": {},
   "outputs": [
    {
     "name": "stdout",
     "output_type": "stream",
     "text": [
      "Index(['Year', 'Company ', 'Category', 'Market Cap(in B USD)', 'Revenue',\n",
      "       'Gross Profit', 'Net Income', 'Earning Per Share', 'EBITDA',\n",
      "       'Share Holder Equity', 'Cash Flow from Operating',\n",
      "       'Cash Flow from Investing', 'Cash Flow from Financial Activities',\n",
      "       'Current Ratio', 'Debt/Equity Ratio', 'ROE', 'ROA', 'ROI',\n",
      "       'Net Profit Margin', 'Free Cash Flow per Share',\n",
      "       'Return on Tangible Equity', 'Number of Employees',\n",
      "       'Inflation Rate(in US)'],\n",
      "      dtype='object')\n"
     ]
    }
   ],
   "source": [
    "print(df_fs.columns)"
   ]
  },
  {
   "cell_type": "code",
   "execution_count": 45,
   "id": "6eaf77d8",
   "metadata": {},
   "outputs": [],
   "source": [
    "company_data = df_fs[df_fs['Company '] == 'AAPL']"
   ]
  },
  {
   "cell_type": "code",
   "execution_count": 69,
   "id": "8cb8249b",
   "metadata": {},
   "outputs": [],
   "source": [
    "features = company_data[['Market Cap(in B USD)','Revenue','Gross Profit','Earning Per Share','EBITDA','Share Holder Equity','Cash Flow from Operating','Cash Flow from Investing']]\n",
    "\n",
    "target = company_data['Net Income']"
   ]
  },
  {
   "cell_type": "code",
   "execution_count": 62,
   "id": "4f1b72b5",
   "metadata": {},
   "outputs": [],
   "source": [
    "# Split into training and test data\n",
    "X_train, X_test, y_train, y_test = train_test_split(features, target, test_size=0.2, random_state=42)"
   ]
  },
  {
   "cell_type": "code",
   "execution_count": 63,
   "id": "d002dae1",
   "metadata": {},
   "outputs": [
    {
     "data": {
      "text/html": [
       "<style>#sk-container-id-2 {color: black;}#sk-container-id-2 pre{padding: 0;}#sk-container-id-2 div.sk-toggleable {background-color: white;}#sk-container-id-2 label.sk-toggleable__label {cursor: pointer;display: block;width: 100%;margin-bottom: 0;padding: 0.3em;box-sizing: border-box;text-align: center;}#sk-container-id-2 label.sk-toggleable__label-arrow:before {content: \"▸\";float: left;margin-right: 0.25em;color: #696969;}#sk-container-id-2 label.sk-toggleable__label-arrow:hover:before {color: black;}#sk-container-id-2 div.sk-estimator:hover label.sk-toggleable__label-arrow:before {color: black;}#sk-container-id-2 div.sk-toggleable__content {max-height: 0;max-width: 0;overflow: hidden;text-align: left;background-color: #f0f8ff;}#sk-container-id-2 div.sk-toggleable__content pre {margin: 0.2em;color: black;border-radius: 0.25em;background-color: #f0f8ff;}#sk-container-id-2 input.sk-toggleable__control:checked~div.sk-toggleable__content {max-height: 200px;max-width: 100%;overflow: auto;}#sk-container-id-2 input.sk-toggleable__control:checked~label.sk-toggleable__label-arrow:before {content: \"▾\";}#sk-container-id-2 div.sk-estimator input.sk-toggleable__control:checked~label.sk-toggleable__label {background-color: #d4ebff;}#sk-container-id-2 div.sk-label input.sk-toggleable__control:checked~label.sk-toggleable__label {background-color: #d4ebff;}#sk-container-id-2 input.sk-hidden--visually {border: 0;clip: rect(1px 1px 1px 1px);clip: rect(1px, 1px, 1px, 1px);height: 1px;margin: -1px;overflow: hidden;padding: 0;position: absolute;width: 1px;}#sk-container-id-2 div.sk-estimator {font-family: monospace;background-color: #f0f8ff;border: 1px dotted black;border-radius: 0.25em;box-sizing: border-box;margin-bottom: 0.5em;}#sk-container-id-2 div.sk-estimator:hover {background-color: #d4ebff;}#sk-container-id-2 div.sk-parallel-item::after {content: \"\";width: 100%;border-bottom: 1px solid gray;flex-grow: 1;}#sk-container-id-2 div.sk-label:hover label.sk-toggleable__label {background-color: #d4ebff;}#sk-container-id-2 div.sk-serial::before {content: \"\";position: absolute;border-left: 1px solid gray;box-sizing: border-box;top: 0;bottom: 0;left: 50%;z-index: 0;}#sk-container-id-2 div.sk-serial {display: flex;flex-direction: column;align-items: center;background-color: white;padding-right: 0.2em;padding-left: 0.2em;position: relative;}#sk-container-id-2 div.sk-item {position: relative;z-index: 1;}#sk-container-id-2 div.sk-parallel {display: flex;align-items: stretch;justify-content: center;background-color: white;position: relative;}#sk-container-id-2 div.sk-item::before, #sk-container-id-2 div.sk-parallel-item::before {content: \"\";position: absolute;border-left: 1px solid gray;box-sizing: border-box;top: 0;bottom: 0;left: 50%;z-index: -1;}#sk-container-id-2 div.sk-parallel-item {display: flex;flex-direction: column;z-index: 1;position: relative;background-color: white;}#sk-container-id-2 div.sk-parallel-item:first-child::after {align-self: flex-end;width: 50%;}#sk-container-id-2 div.sk-parallel-item:last-child::after {align-self: flex-start;width: 50%;}#sk-container-id-2 div.sk-parallel-item:only-child::after {width: 0;}#sk-container-id-2 div.sk-dashed-wrapped {border: 1px dashed gray;margin: 0 0.4em 0.5em 0.4em;box-sizing: border-box;padding-bottom: 0.4em;background-color: white;}#sk-container-id-2 div.sk-label label {font-family: monospace;font-weight: bold;display: inline-block;line-height: 1.2em;}#sk-container-id-2 div.sk-label-container {text-align: center;}#sk-container-id-2 div.sk-container {/* jupyter's `normalize.less` sets `[hidden] { display: none; }` but bootstrap.min.css set `[hidden] { display: none !important; }` so we also need the `!important` here to be able to override the default hidden behavior on the sphinx rendered scikit-learn.org. See: https://github.com/scikit-learn/scikit-learn/issues/21755 */display: inline-block !important;position: relative;}#sk-container-id-2 div.sk-text-repr-fallback {display: none;}</style><div id=\"sk-container-id-2\" class=\"sk-top-container\"><div class=\"sk-text-repr-fallback\"><pre>LinearRegression()</pre><b>In a Jupyter environment, please rerun this cell to show the HTML representation or trust the notebook. <br />On GitHub, the HTML representation is unable to render, please try loading this page with nbviewer.org.</b></div><div class=\"sk-container\" hidden><div class=\"sk-item\"><div class=\"sk-estimator sk-toggleable\"><input class=\"sk-toggleable__control sk-hidden--visually\" id=\"sk-estimator-id-2\" type=\"checkbox\" checked><label for=\"sk-estimator-id-2\" class=\"sk-toggleable__label sk-toggleable__label-arrow\">LinearRegression</label><div class=\"sk-toggleable__content\"><pre>LinearRegression()</pre></div></div></div></div></div>"
      ],
      "text/plain": [
       "LinearRegression()"
      ]
     },
     "execution_count": 63,
     "metadata": {},
     "output_type": "execute_result"
    }
   ],
   "source": [
    "# Model building and training\n",
    "model = LinearRegression()\n",
    "model.fit(X_train, y_train)"
   ]
  },
  {
   "cell_type": "code",
   "execution_count": 64,
   "id": "b08fd3b6",
   "metadata": {},
   "outputs": [],
   "source": [
    "# Predictions on test data\n",
    "predictions = model.predict(X_test)"
   ]
  },
  {
   "cell_type": "code",
   "execution_count": 73,
   "id": "f4c34d6d",
   "metadata": {},
   "outputs": [
    {
     "name": "stdout",
     "output_type": "stream",
     "text": [
      "Mean Squared Error: 30517960.61691792\n"
     ]
    }
   ],
   "source": [
    "#Evaluating Models\n",
    "mse = mean_squared_error(y_test, predictions)\n",
    "print(f'Mean Squared Error: {mse}')"
   ]
  },
  {
   "cell_type": "code",
   "execution_count": 70,
   "id": "a22be993",
   "metadata": {},
   "outputs": [],
   "source": [
    "# Prediction\n",
    "AAPLFutureFS_data = pd.read_csv('AAPLFutureFS.csv')\n",
    "future_features = AAPLFutureFS_data[['Market Cap(in B USD)','Revenue','Gross Profit','Earning Per Share','EBITDA','Share Holder Equity','Cash Flow from Operating','Cash Flow from Investing']]\n",
    "future_predictions = model.predict(future_features)"
   ]
  },
  {
   "cell_type": "code",
   "execution_count": 72,
   "id": "b304f371",
   "metadata": {},
   "outputs": [
    {
     "name": "stdout",
     "output_type": "stream",
     "text": [
      "Future Net Income Predictions of AAPL in 2022:\n",
      "[109243.53249386]\n"
     ]
    }
   ],
   "source": [
    "#result\n",
    "print('Future Net Income Predictions of AAPL in 2022:')\n",
    "print(future_predictions)"
   ]
  },
  {
   "cell_type": "code",
   "execution_count": 59,
   "id": "b26328df",
   "metadata": {},
   "outputs": [],
   "source": [
    "# 99803 is the actual value."
   ]
  }
 ],
 "metadata": {
  "kernelspec": {
   "display_name": "Python 3 (ipykernel)",
   "language": "python",
   "name": "python3"
  },
  "language_info": {
   "codemirror_mode": {
    "name": "ipython",
    "version": 3
   },
   "file_extension": ".py",
   "mimetype": "text/x-python",
   "name": "python",
   "nbconvert_exporter": "python",
   "pygments_lexer": "ipython3",
   "version": "3.11.5"
  }
 },
 "nbformat": 4,
 "nbformat_minor": 5
}
